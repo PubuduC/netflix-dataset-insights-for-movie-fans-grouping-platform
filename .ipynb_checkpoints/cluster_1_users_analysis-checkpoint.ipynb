{
 "cells": [
  {
   "cell_type": "code",
   "execution_count": 1,
   "metadata": {},
   "outputs": [
    {
     "name": "stderr",
     "output_type": "stream",
     "text": [
      "C:\\Users\\Pubudu.C\\new\\Anaconda3\\lib\\site-packages\\IPython\\core\\interactiveshell.py:3071: DtypeWarning: Columns (17) have mixed types.Specify dtype option on import or set low_memory=False.\n",
      "  has_raised = await self.run_ast_nodes(code_ast.body, cell_name,\n"
     ]
    }
   ],
   "source": [
    "import pandas as pd\n",
    "movies = pd.read_csv('data/preprocessed_movies_exploded.csv')\n",
    "ratings = pd.read_csv('data/clustered_ratings.csv')"
   ]
  },
  {
   "cell_type": "code",
   "execution_count": 3,
   "metadata": {},
   "outputs": [
    {
     "data": {
      "text/html": [
       "<div>\n",
       "<style scoped>\n",
       "    .dataframe tbody tr th:only-of-type {\n",
       "        vertical-align: middle;\n",
       "    }\n",
       "\n",
       "    .dataframe tbody tr th {\n",
       "        vertical-align: top;\n",
       "    }\n",
       "\n",
       "    .dataframe thead th {\n",
       "        text-align: right;\n",
       "    }\n",
       "</style>\n",
       "<table border=\"1\" class=\"dataframe\">\n",
       "  <thead>\n",
       "    <tr style=\"text-align: right;\">\n",
       "      <th></th>\n",
       "      <th>Unnamed: 0</th>\n",
       "      <th>userId</th>\n",
       "      <th>movieId</th>\n",
       "      <th>rating</th>\n",
       "      <th>cluster</th>\n",
       "    </tr>\n",
       "  </thead>\n",
       "  <tbody>\n",
       "    <tr>\n",
       "      <th>11296133</th>\n",
       "      <td>11296133</td>\n",
       "      <td>117194</td>\n",
       "      <td>1</td>\n",
       "      <td>5.0</td>\n",
       "      <td>1</td>\n",
       "    </tr>\n",
       "    <tr>\n",
       "      <th>11296553</th>\n",
       "      <td>11296553</td>\n",
       "      <td>117197</td>\n",
       "      <td>1</td>\n",
       "      <td>5.0</td>\n",
       "      <td>1</td>\n",
       "    </tr>\n",
       "    <tr>\n",
       "      <th>11296729</th>\n",
       "      <td>11296729</td>\n",
       "      <td>117198</td>\n",
       "      <td>1</td>\n",
       "      <td>5.0</td>\n",
       "      <td>1</td>\n",
       "    </tr>\n",
       "    <tr>\n",
       "      <th>11299695</th>\n",
       "      <td>11299695</td>\n",
       "      <td>117230</td>\n",
       "      <td>1</td>\n",
       "      <td>5.0</td>\n",
       "      <td>1</td>\n",
       "    </tr>\n",
       "    <tr>\n",
       "      <th>11299696</th>\n",
       "      <td>11299696</td>\n",
       "      <td>117230</td>\n",
       "      <td>2</td>\n",
       "      <td>5.0</td>\n",
       "      <td>1</td>\n",
       "    </tr>\n",
       "  </tbody>\n",
       "</table>\n",
       "</div>"
      ],
      "text/plain": [
       "          Unnamed: 0  userId  movieId  rating  cluster\n",
       "11296133    11296133  117194        1     5.0        1\n",
       "11296553    11296553  117197        1     5.0        1\n",
       "11296729    11296729  117198        1     5.0        1\n",
       "11299695    11299695  117230        1     5.0        1\n",
       "11299696    11299696  117230        2     5.0        1"
      ]
     },
     "execution_count": 3,
     "metadata": {},
     "output_type": "execute_result"
    }
   ],
   "source": [
    "cluster_1_ratings = ratings.loc[ratings['cluster'] == 1]\n",
    "cluster_1_ratings.head()"
   ]
  },
  {
   "cell_type": "code",
   "execution_count": 4,
   "metadata": {},
   "outputs": [
    {
     "data": {
      "text/plain": [
       "count    27575.000000\n",
       "mean       265.940272\n",
       "std       1360.066801\n",
       "min          1.000000\n",
       "25%          1.000000\n",
       "50%          6.000000\n",
       "75%         52.000000\n",
       "max      44870.000000\n",
       "Name: movieId, dtype: float64"
      ]
     },
     "execution_count": 4,
     "metadata": {},
     "output_type": "execute_result"
    }
   ],
   "source": [
    "movie_occurence = cluster_1_ratings['movieId'].value_counts()\n",
    "\n",
    "movie_occurence.describe()"
   ]
  },
  {
   "cell_type": "code",
   "execution_count": 5,
   "metadata": {},
   "outputs": [
    {
     "data": {
      "text/plain": [
       "3271"
      ]
     },
     "execution_count": 5,
     "metadata": {},
     "output_type": "execute_result"
    }
   ],
   "source": [
    "movie_occurence = cluster_0_ratings['movieId'].value_counts().loc[lambda x : x>265] \n",
    "movie_occurence.size"
   ]
  },
  {
   "cell_type": "code",
   "execution_count": 6,
   "metadata": {},
   "outputs": [],
   "source": [
    "# movieIds = movie_occurence['movieId'].unique()\n",
    "# len(movieIds)\n",
    "movieIds = movie_occurence.values"
   ]
  },
  {
   "cell_type": "code",
   "execution_count": 7,
   "metadata": {},
   "outputs": [],
   "source": [
    "cluster_1_movies = movies.loc[movies['id'].isin(movieIds)]"
   ]
  },
  {
   "cell_type": "code",
   "execution_count": 8,
   "metadata": {},
   "outputs": [
    {
     "data": {
      "text/html": [
       "<div>\n",
       "<style scoped>\n",
       "    .dataframe tbody tr th:only-of-type {\n",
       "        vertical-align: middle;\n",
       "    }\n",
       "\n",
       "    .dataframe tbody tr th {\n",
       "        vertical-align: top;\n",
       "    }\n",
       "\n",
       "    .dataframe thead th {\n",
       "        text-align: right;\n",
       "    }\n",
       "</style>\n",
       "<table border=\"1\" class=\"dataframe\">\n",
       "  <thead>\n",
       "    <tr style=\"text-align: right;\">\n",
       "      <th></th>\n",
       "      <th>Unnamed: 0</th>\n",
       "      <th>adult</th>\n",
       "      <th>budget</th>\n",
       "      <th>homepage</th>\n",
       "      <th>id</th>\n",
       "      <th>imdb_id</th>\n",
       "      <th>original_language</th>\n",
       "      <th>original_title</th>\n",
       "      <th>overview</th>\n",
       "      <th>popularity</th>\n",
       "      <th>...</th>\n",
       "      <th>tagline</th>\n",
       "      <th>title</th>\n",
       "      <th>video</th>\n",
       "      <th>vote_average</th>\n",
       "      <th>vote_count</th>\n",
       "      <th>collectionName</th>\n",
       "      <th>genres_names</th>\n",
       "      <th>production_countries_list</th>\n",
       "      <th>production_companies_list</th>\n",
       "      <th>spoken_languages_list</th>\n",
       "    </tr>\n",
       "  </thead>\n",
       "  <tbody>\n",
       "    <tr>\n",
       "      <th>0</th>\n",
       "      <td>0</td>\n",
       "      <td>False</td>\n",
       "      <td>30000000</td>\n",
       "      <td>http://toystory.disney.com/toy-story</td>\n",
       "      <td>862</td>\n",
       "      <td>tt0114709</td>\n",
       "      <td>en</td>\n",
       "      <td>Toy Story</td>\n",
       "      <td>Led by Woody, Andy's toys live happily in his ...</td>\n",
       "      <td>21.946943</td>\n",
       "      <td>...</td>\n",
       "      <td>NaN</td>\n",
       "      <td>Toy Story</td>\n",
       "      <td>False</td>\n",
       "      <td>7.7</td>\n",
       "      <td>5415.0</td>\n",
       "      <td>Toy Story Collection</td>\n",
       "      <td>Animation</td>\n",
       "      <td>['United States of America']</td>\n",
       "      <td>['Pixar Animation Studios']</td>\n",
       "      <td>['en']</td>\n",
       "    </tr>\n",
       "    <tr>\n",
       "      <th>1</th>\n",
       "      <td>0</td>\n",
       "      <td>False</td>\n",
       "      <td>30000000</td>\n",
       "      <td>http://toystory.disney.com/toy-story</td>\n",
       "      <td>862</td>\n",
       "      <td>tt0114709</td>\n",
       "      <td>en</td>\n",
       "      <td>Toy Story</td>\n",
       "      <td>Led by Woody, Andy's toys live happily in his ...</td>\n",
       "      <td>21.946943</td>\n",
       "      <td>...</td>\n",
       "      <td>NaN</td>\n",
       "      <td>Toy Story</td>\n",
       "      <td>False</td>\n",
       "      <td>7.7</td>\n",
       "      <td>5415.0</td>\n",
       "      <td>Toy Story Collection</td>\n",
       "      <td>Comedy</td>\n",
       "      <td>['United States of America']</td>\n",
       "      <td>['Pixar Animation Studios']</td>\n",
       "      <td>['en']</td>\n",
       "    </tr>\n",
       "    <tr>\n",
       "      <th>2</th>\n",
       "      <td>0</td>\n",
       "      <td>False</td>\n",
       "      <td>30000000</td>\n",
       "      <td>http://toystory.disney.com/toy-story</td>\n",
       "      <td>862</td>\n",
       "      <td>tt0114709</td>\n",
       "      <td>en</td>\n",
       "      <td>Toy Story</td>\n",
       "      <td>Led by Woody, Andy's toys live happily in his ...</td>\n",
       "      <td>21.946943</td>\n",
       "      <td>...</td>\n",
       "      <td>NaN</td>\n",
       "      <td>Toy Story</td>\n",
       "      <td>False</td>\n",
       "      <td>7.7</td>\n",
       "      <td>5415.0</td>\n",
       "      <td>Toy Story Collection</td>\n",
       "      <td>Family</td>\n",
       "      <td>['United States of America']</td>\n",
       "      <td>['Pixar Animation Studios']</td>\n",
       "      <td>['en']</td>\n",
       "    </tr>\n",
       "    <tr>\n",
       "      <th>12</th>\n",
       "      <td>5</td>\n",
       "      <td>False</td>\n",
       "      <td>60000000</td>\n",
       "      <td>NaN</td>\n",
       "      <td>949</td>\n",
       "      <td>tt0113277</td>\n",
       "      <td>en</td>\n",
       "      <td>Heat</td>\n",
       "      <td>Obsessive master thief, Neil McCauley leads a ...</td>\n",
       "      <td>17.924927</td>\n",
       "      <td>...</td>\n",
       "      <td>A Los Angeles Crime Saga</td>\n",
       "      <td>Heat</td>\n",
       "      <td>False</td>\n",
       "      <td>7.7</td>\n",
       "      <td>1886.0</td>\n",
       "      <td>NaN</td>\n",
       "      <td>Action</td>\n",
       "      <td>['United States of America']</td>\n",
       "      <td>['Regency Enterprises', 'Forward Pass', 'Warne...</td>\n",
       "      <td>['en', 'es']</td>\n",
       "    </tr>\n",
       "    <tr>\n",
       "      <th>13</th>\n",
       "      <td>5</td>\n",
       "      <td>False</td>\n",
       "      <td>60000000</td>\n",
       "      <td>NaN</td>\n",
       "      <td>949</td>\n",
       "      <td>tt0113277</td>\n",
       "      <td>en</td>\n",
       "      <td>Heat</td>\n",
       "      <td>Obsessive master thief, Neil McCauley leads a ...</td>\n",
       "      <td>17.924927</td>\n",
       "      <td>...</td>\n",
       "      <td>A Los Angeles Crime Saga</td>\n",
       "      <td>Heat</td>\n",
       "      <td>False</td>\n",
       "      <td>7.7</td>\n",
       "      <td>1886.0</td>\n",
       "      <td>NaN</td>\n",
       "      <td>Crime</td>\n",
       "      <td>['United States of America']</td>\n",
       "      <td>['Regency Enterprises', 'Forward Pass', 'Warne...</td>\n",
       "      <td>['en', 'es']</td>\n",
       "    </tr>\n",
       "  </tbody>\n",
       "</table>\n",
       "<p>5 rows × 25 columns</p>\n",
       "</div>"
      ],
      "text/plain": [
       "    Unnamed: 0  adult    budget                              homepage   id  \\\n",
       "0            0  False  30000000  http://toystory.disney.com/toy-story  862   \n",
       "1            0  False  30000000  http://toystory.disney.com/toy-story  862   \n",
       "2            0  False  30000000  http://toystory.disney.com/toy-story  862   \n",
       "12           5  False  60000000                                   NaN  949   \n",
       "13           5  False  60000000                                   NaN  949   \n",
       "\n",
       "      imdb_id original_language original_title  \\\n",
       "0   tt0114709                en      Toy Story   \n",
       "1   tt0114709                en      Toy Story   \n",
       "2   tt0114709                en      Toy Story   \n",
       "12  tt0113277                en           Heat   \n",
       "13  tt0113277                en           Heat   \n",
       "\n",
       "                                             overview  popularity  ...  \\\n",
       "0   Led by Woody, Andy's toys live happily in his ...   21.946943  ...   \n",
       "1   Led by Woody, Andy's toys live happily in his ...   21.946943  ...   \n",
       "2   Led by Woody, Andy's toys live happily in his ...   21.946943  ...   \n",
       "12  Obsessive master thief, Neil McCauley leads a ...   17.924927  ...   \n",
       "13  Obsessive master thief, Neil McCauley leads a ...   17.924927  ...   \n",
       "\n",
       "                     tagline      title  video  vote_average vote_count  \\\n",
       "0                        NaN  Toy Story  False           7.7     5415.0   \n",
       "1                        NaN  Toy Story  False           7.7     5415.0   \n",
       "2                        NaN  Toy Story  False           7.7     5415.0   \n",
       "12  A Los Angeles Crime Saga       Heat  False           7.7     1886.0   \n",
       "13  A Los Angeles Crime Saga       Heat  False           7.7     1886.0   \n",
       "\n",
       "          collectionName genres_names     production_countries_list  \\\n",
       "0   Toy Story Collection    Animation  ['United States of America']   \n",
       "1   Toy Story Collection       Comedy  ['United States of America']   \n",
       "2   Toy Story Collection       Family  ['United States of America']   \n",
       "12                   NaN       Action  ['United States of America']   \n",
       "13                   NaN        Crime  ['United States of America']   \n",
       "\n",
       "                            production_companies_list  spoken_languages_list  \n",
       "0                         ['Pixar Animation Studios']                 ['en']  \n",
       "1                         ['Pixar Animation Studios']                 ['en']  \n",
       "2                         ['Pixar Animation Studios']                 ['en']  \n",
       "12  ['Regency Enterprises', 'Forward Pass', 'Warne...           ['en', 'es']  \n",
       "13  ['Regency Enterprises', 'Forward Pass', 'Warne...           ['en', 'es']  \n",
       "\n",
       "[5 rows x 25 columns]"
      ]
     },
     "execution_count": 8,
     "metadata": {},
     "output_type": "execute_result"
    }
   ],
   "source": [
    "cluster_1_movies.head()"
   ]
  },
  {
   "cell_type": "code",
   "execution_count": 53,
   "metadata": {},
   "outputs": [
    {
     "data": {
      "image/png": "[encoded data removed]",
      "text/plain": [
       "<Figure size 1080x720 with 1 Axes>"
      ]
     },
     "metadata": {
      "needs_background": "light"
     },
     "output_type": "display_data"
    }
   ],
   "source": [
    "counts_by_genre = cluster_0_movies['genres_names'].value_counts()\n",
    "import matplotlib.pyplot as plt\n",
    "\n",
    "plt.figure(figsize=(15,10))\n",
    "counts_by_genre.plot.bar()\n",
    "plt.xticks(rotation=50)\n",
    "plt.xlabel(\"Genres\")\n",
    "plt.ylabel(\"MovieCount\")\n",
    "plt.show()"
   ]
  },
  {
   "cell_type": "code",
   "execution_count": 54,
   "metadata": {},
   "outputs": [
    {
     "data": {
      "image/png": "[encoded data removed]",
      "text/plain": [
       "<Figure size 432x288 with 1 Axes>"
      ]
     },
     "metadata": {
      "needs_background": "light"
     },
     "output_type": "display_data"
    }
   ],
   "source": [
    "from wordcloud import WordCloud \n",
    "\n",
    "wordcloud = WordCloud().generate_from_frequencies(counts_by_genre)\n",
    "plt.figure()\n",
    "plt.imshow(wordcloud, interpolation=\"bilinear\")\n",
    "plt.axis(\"off\")\n",
    "plt.show()"
   ]
  },
  {
   "cell_type": "code",
   "execution_count": null,
   "metadata": {},
   "outputs": [],
   "source": []
  }
 ],
 "metadata": {
  "kernelspec": {
   "display_name": "Python 3",
   "language": "python",
   "name": "python3"
  },
  "language_info": {
   "codemirror_mode": {
    "name": "ipython",
    "version": 3
   },
   "file_extension": ".py",
   "mimetype": "text/x-python",
   "name": "python",
   "nbconvert_exporter": "python",
   "pygments_lexer": "ipython3",
   "version": "3.8.3"
  }
 },
 "nbformat": 4,
 "nbformat_minor": 4
}
